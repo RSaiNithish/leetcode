{
  "nbformat": 4,
  "nbformat_minor": 0,
  "metadata": {
    "colab": {
      "name": "Untitled5.ipynb",
      "provenance": [],
      "authorship_tag": "ABX9TyOBCgkdFNfRg/DPfHO5OTUB"
    },
    "kernelspec": {
      "name": "python3",
      "display_name": "Python 3"
    },
    "language_info": {
      "name": "python"
    }
  },
  "cells": [
    {
      "cell_type": "markdown",
      "source": [
        "# **58. Length of Last Word**\n",
        "**Easy**"
      ],
      "metadata": {
        "id": "UCvWm8twW18e"
      }
    },
    {
      "cell_type": "markdown",
      "source": [
        "Given a string `s` consisting of some words separated by some number of spaces, return *the length of the **last** word in the string*."
      ],
      "metadata": {
        "id": "iMJFGUYKW5oY"
      }
    },
    {
      "cell_type": "markdown",
      "source": [
        "**Example 1:**\n",
        "\n",
        "\n",
        "```\n",
        "Input: s = \"Hello World\"\n",
        "Output: 5\n",
        "Explanation: The last word is \"World\" with length 5.\n",
        "```\n",
        "\n",
        "**Example 2:**\n",
        "```\n",
        "Input: s = \"   fly me   to   the moon  \"\n",
        "Output: 4\n",
        "Explanation: The last word is \"moon\" with length 4.\n",
        "```\n",
        "**Example 3:**\n",
        "```\n",
        "Input: s = \"luffy is still joyboy\"\n",
        "Output: 6\n",
        "Explanation: The last word is \"joyboy\" with length 6.\n",
        " ```\n",
        "\n",
        "**Constraints:**\n",
        "\n",
        "* `1 <= s.length <= 104`\n",
        "* `s` consists of only English letters and spaces `' '`\n",
        "* There will be at least one word in `s`\n",
        "\n",
        "\n",
        "\n"
      ],
      "metadata": {
        "id": "aBGZaX88XCS6"
      }
    },
    {
      "cell_type": "markdown",
      "source": [
        "# **Solution**"
      ],
      "metadata": {
        "id": "GMc23tFl73m8"
      }
    },
    {
      "cell_type": "code",
      "execution_count": 2,
      "metadata": {
        "id": "LeYGvAEmWRiu"
      },
      "outputs": [],
      "source": [
        "def lengthOfLastWord(s):\n",
        "    words = s.strip().split(' ')\n",
        "    return len(words[-1])"
      ]
    },
    {
      "cell_type": "code",
      "source": [
        "print(lengthOfLastWord(\"Hello World\"))"
      ],
      "metadata": {
        "colab": {
          "base_uri": "https://localhost:8080/"
        },
        "id": "PCJyG44GaedC",
        "outputId": "72fdb01c-e877-46ac-9ad3-edb9071c2780"
      },
      "execution_count": 3,
      "outputs": [
        {
          "output_type": "stream",
          "name": "stdout",
          "text": [
            "5\n"
          ]
        }
      ]
    },
    {
      "cell_type": "code",
      "source": [
        "print(lengthOfLastWord(\"   fly me   to   the moon  \"))"
      ],
      "metadata": {
        "colab": {
          "base_uri": "https://localhost:8080/"
        },
        "id": "R-cF7kKva91W",
        "outputId": "e6e7c717-b5b9-490b-c320-36267a9da037"
      },
      "execution_count": 4,
      "outputs": [
        {
          "output_type": "stream",
          "name": "stdout",
          "text": [
            "4\n"
          ]
        }
      ]
    },
    {
      "cell_type": "code",
      "source": [
        "print(lengthOfLastWord(\"luffy is still joyboy\"))"
      ],
      "metadata": {
        "colab": {
          "base_uri": "https://localhost:8080/"
        },
        "id": "lq3j26ZKbKg9",
        "outputId": "d3fc591b-e3cc-4cdb-b7b4-7cb203b6e9c5"
      },
      "execution_count": 5,
      "outputs": [
        {
          "output_type": "stream",
          "name": "stdout",
          "text": [
            "6\n"
          ]
        }
      ]
    },
    {
      "cell_type": "markdown",
      "source": [
        "**Logic:**\n",
        "  1. Remove all the leading and trailing blank spaces using strip()\n",
        "  2. Create the list of words using split()\n",
        "  3. Retrun len of last element in the list\n",
        "  "
      ],
      "metadata": {
        "id": "TkOxp2PyZwCD"
      }
    },
    {
      "cell_type": "markdown",
      "source": [
        "**Runtime**: 28 ms\n",
        "\n",
        "**Memory Usage**: 13.9 MB"
      ],
      "metadata": {
        "id": "a9m0oJGnWS8j"
      }
    }
  ]
}
