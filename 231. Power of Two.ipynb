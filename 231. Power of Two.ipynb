{
  "nbformat": 4,
  "nbformat_minor": 0,
  "metadata": {
    "colab": {
      "name": "Untitled5.ipynb",
      "provenance": [],
      "authorship_tag": "ABX9TyN6et4rdcR6fEY4PQfFj6ww"
    },
    "kernelspec": {
      "name": "python3",
      "display_name": "Python 3"
    },
    "language_info": {
      "name": "python"
    }
  },
  "cells": [
    {
      "cell_type": "markdown",
      "source": [
        "# **231. Power of Two**\n",
        "**Easy**"
      ],
      "metadata": {
        "id": "UCvWm8twW18e"
      }
    },
    {
      "cell_type": "markdown",
      "source": [
        "Given an integer `n`, return `true` if it is a power of two. Otherwise, return `false`.\n",
        "\n",
        "An integer `n` is a power of two, if there exists an integer `x` such that `n == 2x`."
      ],
      "metadata": {
        "id": "iMJFGUYKW5oY"
      }
    },
    {
      "cell_type": "markdown",
      "source": [
        "**Example 1:**\n",
        "\n",
        "\n",
        "```\n",
        "Input: n = 1\n",
        "Output: true\n",
        "Explanation: 2^0 = 1.\n",
        "```\n",
        "\n",
        "**Example 2:**\n",
        "```\n",
        "Input: n = 16\n",
        "Output: true\n",
        "Explanation: 2^4 = 16\n",
        "```\n",
        "**Example 3:**\n",
        "```\n",
        "Input: n = 3\n",
        "Output: false\n",
        " ```\n",
        "\n",
        "**Constraints:**\n",
        "\n",
        "* `-231 <= n <= 231 - 1`\n",
        "\n",
        "\n"
      ],
      "metadata": {
        "id": "aBGZaX88XCS6"
      }
    },
    {
      "cell_type": "markdown",
      "source": [
        "# **Solution**"
      ],
      "metadata": {
        "id": "GMc23tFl73m8"
      }
    },
    {
      "cell_type": "code",
      "execution_count": 6,
      "metadata": {
        "id": "LeYGvAEmWRiu"
      },
      "outputs": [],
      "source": [
        "from math import log2\n",
        "\n",
        "def isPowerOfTwo(n):\n",
        "    if n < 1:\n",
        "        return False\n",
        "    decimal = log2(n)\n",
        "    return decimal - int(decimal) == 0"
      ]
    },
    {
      "cell_type": "code",
      "source": [
        "print(isPowerOfTwo(1))"
      ],
      "metadata": {
        "colab": {
          "base_uri": "https://localhost:8080/"
        },
        "id": "PCJyG44GaedC",
        "outputId": "14e61927-59ac-42c1-f165-dd1fdde75a12"
      },
      "execution_count": 7,
      "outputs": [
        {
          "output_type": "stream",
          "name": "stdout",
          "text": [
            "True\n"
          ]
        }
      ]
    },
    {
      "cell_type": "code",
      "source": [
        "print(isPowerOfTwo(16))"
      ],
      "metadata": {
        "colab": {
          "base_uri": "https://localhost:8080/"
        },
        "id": "R-cF7kKva91W",
        "outputId": "3c605e5e-1d15-425c-a64d-c1a3fe113106"
      },
      "execution_count": 8,
      "outputs": [
        {
          "output_type": "stream",
          "name": "stdout",
          "text": [
            "True\n"
          ]
        }
      ]
    },
    {
      "cell_type": "code",
      "source": [
        "print(isPowerOfTwo(3))"
      ],
      "metadata": {
        "colab": {
          "base_uri": "https://localhost:8080/"
        },
        "id": "lq3j26ZKbKg9",
        "outputId": "db82c55a-1808-4194-af7d-366c8f0f5c61"
      },
      "execution_count": 9,
      "outputs": [
        {
          "output_type": "stream",
          "name": "stdout",
          "text": [
            "False\n"
          ]
        }
      ]
    },
    {
      "cell_type": "markdown",
      "source": [
        "**Logic:**\n",
        "  1. Anything less than 1 can't be n == 2x, return False\n",
        "  2. find logarithm base 2 of n using log2 from math module\n",
        "  3. check if the calulated value doesn't have any value in the decimal part and return True\n",
        "  "
      ],
      "metadata": {
        "id": "TkOxp2PyZwCD"
      }
    },
    {
      "cell_type": "markdown",
      "source": [
        "**Runtime**: 20 ms, faster than 99.37% of Python3 online submissions for Power of Two.\n",
        "\n",
        "**Memory Usage**: 13.8 MB, less than 98.00% of Python3 online submissions for Power of Two."
      ],
      "metadata": {
        "id": "a9m0oJGnWS8j"
      }
    }
  ]
}