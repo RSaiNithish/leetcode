{
  "nbformat": 4,
  "nbformat_minor": 0,
  "metadata": {
    "colab": {
      "name": "Untitled5.ipynb",
      "provenance": [],
      "authorship_tag": "ABX9TyM4qUgstBkXpNTbcbIAJPRG"
    },
    "kernelspec": {
      "name": "python3",
      "display_name": "Python 3"
    },
    "language_info": {
      "name": "python"
    }
  },
  "cells": [
    {
      "cell_type": "markdown",
      "source": [
        "# **88. Merge Sorted Array**"
      ],
      "metadata": {
        "id": "UCvWm8twW18e"
      }
    },
    {
      "cell_type": "markdown",
      "source": [
        "You are given two integer arrays `nums1` and `nums2`, sorted in **non-decreasing order**, and two integers m and n, representing the number of elements in `nums1` and `nums2` respectively.\n",
        "\n",
        "**Merge** `nums1` and `nums2` into a single array sorted in **non-decreasing order.**\n",
        "\n",
        "The final sorted array should not be returned by the function, but instead be stored inside the array nums1. To accommodate this, nums1 has a length of` m + n`, where the first `m` elements denote the elements that should be merged, and the last `n` elements are set to `0` and should be ignored. `nums2` has a length of `n`."
      ],
      "metadata": {
        "id": "iMJFGUYKW5oY"
      }
    },
    {
      "cell_type": "markdown",
      "source": [
        "**Example 1:**\n",
        "\n",
        "\n",
        "```\n",
        "Input: nums1 = [1,2,3,0,0,0], m = 3, nums2 = [2,5,6], n = 3\n",
        "Output: [1,2,2,3,5,6]\n",
        "Explanation: The arrays we are merging are [1,2,3] and [2,5,6].\n",
        "The result of the merge is [1,2,2,3,5,6] with the underlined elements coming from nums1.\n",
        "```\n",
        "\n",
        "**Example 2:**\n",
        "```\n",
        "Input: nums1 = [1], m = 1, nums2 = [], n = 0\n",
        "Output: [1]\n",
        "Explanation: The arrays we are merging are [1] and [].\n",
        "The result of the merge is [1].\n",
        "```\n",
        "**Example 3:**\n",
        "```\n",
        "Input: nums1 = [0], m = 0, nums2 = [1], n = 1\n",
        "Output: [1]\n",
        "Explanation: The arrays we are merging are [] and [1].\n",
        "The result of the merge is [1].\n",
        "Note that because m = 0, there are no elements in nums1. The 0 is only there to ensure the merge result can fit in nums1.\n",
        " ```\n",
        "\n",
        "**Constraints:**\n",
        "\n",
        "* `nums1.length == m + n`\n",
        "\n",
        "* `nums2.length == n`\n",
        "\n",
        "* ` <= m, n <= 200`\n",
        "\n",
        "* `1 <= m + n <= 200`\n",
        "\n",
        "* `-109 <= nums1[i], nums2[j] <= 109`\n"
      ],
      "metadata": {
        "id": "aBGZaX88XCS6"
      }
    },
    {
      "cell_type": "code",
      "execution_count": 1,
      "metadata": {
        "id": "LeYGvAEmWRiu"
      },
      "outputs": [],
      "source": [
        "def merge(nums1, m, nums2, n):\n",
        "    s_list = sorted(nums1[:m] + nums2)\n",
        "    for index,i in enumerate(s_list):\n",
        "        nums1[index] = i"
      ]
    },
    {
      "cell_type": "code",
      "source": [
        "nums1 = [1,2,3,0,0,0]; m = 3; nums2 = [2,5,6]; n = 3\n",
        "merge(nums1, m, nums2, n)\n",
        "print(nums1)"
      ],
      "metadata": {
        "colab": {
          "base_uri": "https://localhost:8080/"
        },
        "id": "PCJyG44GaedC",
        "outputId": "3c95566a-80c4-4441-a663-359a81d9a405"
      },
      "execution_count": 4,
      "outputs": [
        {
          "output_type": "stream",
          "name": "stdout",
          "text": [
            "[1, 2, 2, 3, 5, 6]\n"
          ]
        }
      ]
    },
    {
      "cell_type": "code",
      "source": [
        "nums1 = [1]; m = 1; nums2 = []; n = 0\n",
        "merge(nums1, m, nums2, n)\n",
        "print(nums1)"
      ],
      "metadata": {
        "colab": {
          "base_uri": "https://localhost:8080/"
        },
        "id": "R-cF7kKva91W",
        "outputId": "0ea6b609-348e-4f41-a4fe-962e2170e380"
      },
      "execution_count": 6,
      "outputs": [
        {
          "output_type": "stream",
          "name": "stdout",
          "text": [
            "[1]\n"
          ]
        }
      ]
    },
    {
      "cell_type": "code",
      "source": [
        "nums1 = [0]; m = 0; nums2 = [1]; n = 1\n",
        "merge(nums1, m, nums2, n)\n",
        "print(nums1)"
      ],
      "metadata": {
        "colab": {
          "base_uri": "https://localhost:8080/"
        },
        "id": "lq3j26ZKbKg9",
        "outputId": "cd949664-7672-420e-a616-47e837b93821"
      },
      "execution_count": 7,
      "outputs": [
        {
          "output_type": "stream",
          "name": "stdout",
          "text": [
            "[1]\n"
          ]
        }
      ]
    },
    {
      "cell_type": "markdown",
      "source": [
        "**Logic:**\n",
        "  1. Merge nums1(ingnoring the 0's) and nums2\n",
        "  2. Sort them in increasing order\n",
        "  3. Assign the sorted list to a new list variable sorted_list\n",
        "  4. Copy elements of sorted list to the orignial list nums1"
      ],
      "metadata": {
        "id": "TkOxp2PyZwCD"
      }
    },
    {
      "cell_type": "markdown",
      "source": [
        "**Runtime**: 32 ms\n",
        "\n",
        "**Memory Usage**: 13.9 MB\n",
        "\n",
        "\n"
      ],
      "metadata": {
        "id": "a9m0oJGnWS8j"
      }
    }
  ]
}